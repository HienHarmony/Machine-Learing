{
 "cells": [
  {
   "cell_type": "markdown",
   "source": [
    "Bài 1:\n",
    "Mẫu dưới đây thu nhận ngẫu nhiên độ tuổi của người mắc bệnh tiểu đường ở một địa bàn\n",
    "trong thời gian khảo sát:\n",
    "35 37 40 42 55 57 60 61 66 45\n",
    "Có ý kiến cho rằng \"Người mắc bệnh tiểu đường có độ tuổi trung bình trên 45 tuổi\". Với\n",
    "mức ý nghĩa 5% bạn hãy kiểm định ý kiến này đúng hay sai? Hãy tính toán và đưa ra kết\n",
    "luận"
   ],
   "metadata": {
    "collapsed": false
   }
  },
  {
   "cell_type": "markdown",
   "source": [
    "# Bước 1 xác định giả thuyết\n",
    "$H_0: \\mu = \\mu_0 = 45$: tuổi trung bình là 45\n",
    "\n",
    "$H_1: \\mu \\neq 45$: tuổi trung bình khác 45\n",
    "\n",
    "Miền bác bỏ $H_0$ là $[-\\infty, -t_{\\alpha/2}] \\cup [t_{\\alpha/2}, +\\infty]$\n",
    "Hay là $|z_0| \\geq t_{\\alpha/2}$"
   ],
   "metadata": {
    "collapsed": false
   }
  },
  {
   "cell_type": "code",
   "execution_count": 2,
   "outputs": [
    {
     "data": {
      "text/plain": "[35, 37, 40, 42, 55, 57, 60, 61, 66, 45]"
     },
     "execution_count": 2,
     "metadata": {},
     "output_type": "execute_result"
    }
   ],
   "source": [
    "s = \"35 37 40 42 55 57 60 61 66 45\"\n",
    "s = list(map(int, s.split(\" \")))\n",
    "s"
   ],
   "metadata": {
    "collapsed": false,
    "ExecuteTime": {
     "end_time": "2024-01-24T07:32:49.566296900Z",
     "start_time": "2024-01-24T07:32:49.481729600Z"
    }
   }
  },
  {
   "cell_type": "code",
   "execution_count": 22,
   "outputs": [
    {
     "name": "stdout",
     "output_type": "stream",
     "text": [
      "Trung binh mau la: 49.8\n",
      "Phuong sai mau la: 125.95555555555555\n",
      "Do lech chuan mau la: 11.222992272810115\n"
     ]
    }
   ],
   "source": [
    "import numpy as np\n",
    "\n",
    "alpha = 0.05\n",
    "p = 1 - alpha/2\n",
    "\n",
    "s = np.array(s)\n",
    "mean = s.mean() # trung binh mau\n",
    "\n",
    "var = ((s-s.mean())**2).sum() / (len(s)-1) # phuong sai mau\n",
    "std = np.sqrt(var) # do lech chuan cua mau\n",
    "print(\n",
    "    f'Trung binh mau la: {mean}\\n'\n",
    "    f'Phuong sai mau la: {var}\\n'\n",
    "    f'Do lech chuan mau la: {std}'\n",
    ")"
   ],
   "metadata": {
    "collapsed": false,
    "ExecuteTime": {
     "end_time": "2024-01-24T07:48:10.167407700Z",
     "start_time": "2024-01-24T07:48:10.151410900Z"
    }
   }
  },
  {
   "cell_type": "code",
   "execution_count": 20,
   "outputs": [
    {
     "name": "stdout",
     "output_type": "stream",
     "text": [
      "z_0 = 1.3524853621776194\n",
      "z_alpha = 2.2621571627409915\n",
      "z_0 = 1.3524853621776194 thuộc khoảng tin cậy [-2.2621571627409915, 2.2621571627409915]\n",
      "Chấp nhận H0, và bác bỏ H1\n"
     ]
    }
   ],
   "source": [
    "from scipy.stats import t\n",
    "\n",
    "# tim khoang tin cay voi do tin cay la p\n",
    "t_alpha = t.ppf(p, len(s)-1)\n",
    "t_alpha\n",
    "\n",
    "z_0 = (mean - 45) / (std / np.sqrt(len(s)))\n",
    "\n",
    "print(f'z_0 = {z_0}')\n",
    "print(f'z_alpha = {t_alpha}')\n",
    "print(f'z_0 = {z_0} thuộc khoảng tin cậy [{-t_alpha}, {t_alpha}]')\n",
    "\n",
    "condition = np.abs(z_0) >= t_alpha\n",
    "\n",
    "if condition:\n",
    "    print('Chấp nhận H1, và bác bỏ H0')\n",
    "else:\n",
    "    print('Chấp nhận H0, và bác bỏ H1')"
   ],
   "metadata": {
    "collapsed": false,
    "ExecuteTime": {
     "end_time": "2024-01-24T07:46:35.923796Z",
     "start_time": "2024-01-24T07:46:35.904264100Z"
    }
   }
  },
  {
   "cell_type": "markdown",
   "source": [
    "Bài 2:\n",
    "Điều tra chi tiêu hàng năm của 40 công nhân khu công nghiệp A thấy trung bình mẫu là\n",
    "34 triệu đồng và độ lệch chuẩn mẫu là 5,8 triệu đồng. Điều tra công nhân tại khu công\n",
    "nghiệp B thì chi tiêu trung bình là 35 triệu đồng và độ lệch chuẩn là 5 triệu đồng.\n",
    "- Với mức ý nghĩa 5%, có thể cho rằng chỉ tiêu trung bình của công nhân khu công\n",
    "nghiệp A và B là như nhau không?\n",
    "- Tính p-value của kiểm định và cho biết kết luận thu được có thể mắc phải sai lầm loại\n",
    "mấy? Giả thiết chi tiêu công nhân là biến ngẫu nhiên phân phối chuẩn"
   ],
   "metadata": {
    "collapsed": false
   }
  },
  {
   "cell_type": "markdown",
   "source": [
    "Xác định giả thuyết\n",
    "\n",
    "$H_0: \\mu = 35$ chi tiêu trung bình của công nhân khu công nghiệp A và B là như nhau\n",
    "$H_1: \\mu \\neq 35$ chi tiêu trung bình của công nhân khu công nghiệp A và B là khác nhau"
   ],
   "metadata": {
    "collapsed": false
   }
  },
  {
   "cell_type": "code",
   "execution_count": 27,
   "outputs": [
    {
     "name": "stdout",
     "output_type": "stream",
     "text": [
      "Chấp nhận H0, và bác bỏ H1\n",
      "Có thể cho rằng chỉ tiêu trung bình của công nhân khu công nghiệp A và B là như nhau\n"
     ]
    }
   ],
   "source": [
    "n = 40 # so luong cong nhan\n",
    "alpha = 0.05\n",
    "p = 1 - alpha/2\n",
    "\n",
    "from scipy.stats import norm\n",
    "\n",
    "z_alpha = norm.ppf(p)# tim mien tien cay\n",
    "\n",
    "mean_A = 34\n",
    "std_A = 5.8\n",
    "z_sample = (mean_A - 35) / (std_A / np.sqrt(n))\n",
    "\n",
    "condition = np.abs(z_sample) >= z_alpha\n",
    "\n",
    "if condition:\n",
    "    print('Chấp nhận H1, và bác bỏ H0')\n",
    "    print('Có thể cho rằng chỉ tiêu trung bình của công nhân khu công nghiệp A và B là khác nhau')\n",
    "else:\n",
    "    print('Chấp nhận H0, và bác bỏ H1')\n",
    "    print('Có thể cho rằng chỉ tiêu trung bình của công nhân khu công nghiệp A và B là như nhau')"
   ],
   "metadata": {
    "collapsed": false,
    "ExecuteTime": {
     "end_time": "2024-01-24T08:07:05.423967400Z",
     "start_time": "2024-01-24T08:07:05.384420900Z"
    }
   }
  },
  {
   "cell_type": "markdown",
   "source": [
    "Bài 3:\n",
    "Quảng cáo của một công ty cho rằng tỷ lệ phế phẩm của công ty trên thị trường tối đa là\n",
    "12%. Kiểm tra 400 sản phẩm của công ty trên thị trường thì có 60 phế phẩm. Với mức ý\n",
    "nghĩa 5% có thể cho rằng quảng cáo của công ty là đúng không?"
   ],
   "metadata": {
    "collapsed": false
   }
  },
  {
   "cell_type": "markdown",
   "source": [
    "Xác định giả thuyết\n",
    "$H_0:  p_0 = 12 %$ : tỷ lệ phế phẩm của công ty trên thị trường tối đa là 12%\n",
    "$H_1: p_0 > 12 %$ : tỷ lệ phế phẩm của công ty trên thị trường có thể lớn hơn 12%\n",
    "\n",
    "Miền bác bỏ $H_0$ là $[z_{\\alpha}, +\\infty]$\n",
    "\n",
    "Trị thống kê là\n",
    "$$z_0 = \\dfrac{f-p_o}{\\sqrt{\\dfrac{p_o*(1-p_o}{n}}$$"
   ],
   "metadata": {
    "collapsed": false
   }
  },
  {
   "cell_type": "code",
   "execution_count": 30,
   "outputs": [
    {
     "name": "stdout",
     "output_type": "stream",
     "text": [
      "z_alpha = 1.959963984540054\n",
      "z_sample = 1.846372364689991\n",
      "z_sample = 1.846372364689991 thuộc khoảng tin cậy [-1.959963984540054, 1.959963984540054]\n",
      "Chấp nhận H0, và bác bỏ H1\n",
      "Có thể cho rằng tỷ lệ phế phẩm của công ty trên thị trường tối đa là 12%\n"
     ]
    }
   ],
   "source": [
    "n = 400\n",
    "alpha = 0.05\n",
    "p = 1 - alpha/2\n",
    "\n",
    "from scipy.stats import norm\n",
    "\n",
    "p_0 = 0.12\n",
    "z_alpha = norm.ppf(p)# tim mien tien cay\n",
    "\n",
    "p_sample = 60/400\n",
    "\n",
    "z_sample = (p_sample - p_0) / np.sqrt(p_0*(1-p_0)/n)\n",
    "\n",
    "condition = np.abs(z_sample) >= z_alpha\n",
    "\n",
    "print(f'z_alpha = {z_alpha}')\n",
    "print(f'z_sample = {z_sample}')\n",
    "print(f'z_sample = {z_sample} thuộc khoảng tin cậy [{-z_alpha}, {z_alpha}]')\n",
    "\n",
    "if condition:\n",
    "    print('Chấp nhận H1, và bác bỏ H0')\n",
    "    print('Có thể cho rằng tỷ lệ phế phẩm của công ty trên thị trường có thể lớn hơn 12%')\n",
    "else:\n",
    "    print('Chấp nhận H0, và bác bỏ H1')\n",
    "    print('Có thể cho rằng tỷ lệ phế phẩm của công ty trên thị trường tối đa là 12%')"
   ],
   "metadata": {
    "collapsed": false,
    "ExecuteTime": {
     "end_time": "2024-01-24T08:22:13.004170400Z",
     "start_time": "2024-01-24T08:22:12.960632600Z"
    }
   }
  }
 ],
 "metadata": {
  "kernelspec": {
   "display_name": "Python 3",
   "language": "python",
   "name": "python3"
  },
  "language_info": {
   "codemirror_mode": {
    "name": "ipython",
    "version": 2
   },
   "file_extension": ".py",
   "mimetype": "text/x-python",
   "name": "python",
   "nbconvert_exporter": "python",
   "pygments_lexer": "ipython2",
   "version": "2.7.6"
  }
 },
 "nbformat": 4,
 "nbformat_minor": 0
}
