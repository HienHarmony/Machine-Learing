{
  "nbformat": 4,
  "nbformat_minor": 0,
  "metadata": {
    "colab": {
      "provenance": []
    },
    "kernelspec": {
      "name": "python3",
      "display_name": "Python 3"
    },
    "language_info": {
      "name": "python"
    }
  },
  "cells": [
    {
      "cell_type": "markdown",
      "source": [
        "#Bài 1"
      ],
      "metadata": {
        "id": "krW3ZukK7Azg"
      }
    },
    {
      "cell_type": "code",
      "source": [
        "def ky_vong(X, f):\n",
        "\n",
        "    if len(X) != len(f):\n",
        "        raise ValueError(\"Danh sách giá trị và xác suất phải có cùng độ dài\")\n",
        "\n",
        "    ky_vong = sum(x * p for x, p in zip(X, f))\n",
        "    return ky_vong\n",
        "\n",
        "X_discrete = [1, 2, 3, 4]\n",
        "f_discrete = [0.1, 0.2, 0.4, 0.3]\n",
        "ky_vong_discrete = ky_vong(X_discrete, f_discrete)\n",
        "print(\"Kỳ vọng của biến ngẫu nhiên rời rạc: {:.2f}\".format(ky_vong_discrete))\n"
      ],
      "metadata": {
        "colab": {
          "base_uri": "https://localhost:8080/"
        },
        "id": "_Mc_zNp-6jBP",
        "outputId": "e5967a1d-3d41-4ae6-a02d-223ca80018fc"
      },
      "execution_count": 1,
      "outputs": [
        {
          "output_type": "stream",
          "name": "stdout",
          "text": [
            "Kỳ vọng của biến ngẫu nhiên rời rạc: 2.90\n"
          ]
        }
      ]
    },
    {
      "cell_type": "code",
      "source": [
        "X_continuous = [0, 1]\n",
        "f_continuous = [1, 1]\n",
        "ky_vong_continuous = ky_vong(X_continuous, f_continuous)\n",
        "print(\"Kỳ vọng của biến ngẫu nhiên liên tục: {:.2f}\".format(ky_vong_continuous))"
      ],
      "metadata": {
        "colab": {
          "base_uri": "https://localhost:8080/"
        },
        "id": "cBReURdRq2YO",
        "outputId": "602452ce-8e43-41ee-db97-dac7b06f0cdf"
      },
      "execution_count": 2,
      "outputs": [
        {
          "output_type": "stream",
          "name": "stdout",
          "text": [
            "Kỳ vọng của biến ngẫu nhiên liên tục: 1.00\n"
          ]
        }
      ]
    },
    {
      "cell_type": "markdown",
      "source": [
        "# Bài 2\n"
      ],
      "metadata": {
        "id": "KwnIAAc17Fgb"
      }
    },
    {
      "cell_type": "code",
      "source": [
        "def phuong_sai(X, f):\n",
        "\n",
        "    if len(X) != len(f):\n",
        "        raise ValueError(\"Danh sách giá trị và xác suất phải có cùng độ dài\")\n",
        "    ky_vong = sum(x * p for x, p in zip(X, f))\n",
        "    ky_vong_binh_phuong = sum(x**2 * p for x, p in zip(X, f))\n",
        "    phuong_sai = ky_vong_binh_phuong - ky_vong**2\n",
        "    return phuong_sai"
      ],
      "metadata": {
        "id": "MeOwlzttj9Q4"
      },
      "execution_count": 3,
      "outputs": []
    },
    {
      "cell_type": "code",
      "source": [
        "X_discrete = [1, 2, 3, 4]\n",
        "f_discrete = [0.1, 0.2, 0.4, 0.3]\n",
        "phuong_sai_discrete = phuong_sai(X_discrete, f_discrete)\n",
        "print(\"Phương sai của biến ngẫu nhiên rời rạc: {:.2f}\".format(phuong_sai_discrete))"
      ],
      "metadata": {
        "colab": {
          "base_uri": "https://localhost:8080/"
        },
        "id": "-8XhtMpzrMBo",
        "outputId": "6c6b9e88-f5ae-4786-ab90-bbbd72fc22f9"
      },
      "execution_count": 4,
      "outputs": [
        {
          "output_type": "stream",
          "name": "stdout",
          "text": [
            "Phương sai của biến ngẫu nhiên rời rạc: 0.89\n"
          ]
        }
      ]
    },
    {
      "cell_type": "code",
      "source": [
        "X_continuous = [0, 1]\n",
        "f_continuous = [1, 1]\n",
        "phuong_sai_continuous = phuong_sai(X_continuous, f_continuous)\n",
        "print(\"Phương sai của biến ngẫu nhiên liên tục: {:.2f}\".format(phuong_sai_continuous))"
      ],
      "metadata": {
        "colab": {
          "base_uri": "https://localhost:8080/"
        },
        "id": "xvtLDTI9rNac",
        "outputId": "1138ec30-6a6c-455f-da2f-7fef6c2a54f3"
      },
      "execution_count": 5,
      "outputs": [
        {
          "output_type": "stream",
          "name": "stdout",
          "text": [
            "Phương sai của biến ngẫu nhiên liên tục: 0.00\n"
          ]
        }
      ]
    },
    {
      "cell_type": "markdown",
      "source": [
        "#Bài 3"
      ],
      "metadata": {
        "id": "avKEE8-38-qs"
      }
    },
    {
      "cell_type": "code",
      "source": [
        "def do_lech_chuan(X, f):\n",
        "    phuong_sai_value = phuong_sai(X, f)\n",
        "    do_lech_chuan_value = math.sqrt(phuong_sai_value)\n",
        "    return do_lech_chuan_value\n",
        "X_discrete = [1, 2, 3, 4]\n",
        "f_discrete = [0.1, 0.2, 0.4, 0.3]\n",
        "\n",
        "do_lech_chuan_discrete = do_lech_chuan(X_discrete, f_discrete)\n",
        "print(\"Độ lệch chuẩn của biến ngẫu nhiên rời rạc: {:.2f}\".format(do_lech_chuan_discrete))"
      ],
      "metadata": {
        "colab": {
          "base_uri": "https://localhost:8080/"
        },
        "id": "JIwQ6cde78Xe",
        "outputId": "772635b1-b204-4d91-ba7e-6a8b169e6ded"
      },
      "execution_count": 7,
      "outputs": [
        {
          "output_type": "stream",
          "name": "stdout",
          "text": [
            "Độ lệch chuẩn của biến ngẫu nhiên rời rạc: 0.94\n"
          ]
        }
      ]
    },
    {
      "cell_type": "code",
      "source": [
        "do_lech_chuan_continuous = do_lech_chuan(X_continuous, f_continuous)\n",
        "print(\"Độ lệch chuẩn của biến ngẫu nhiên liên tục: {:.2f}\".format(do_lech_chuan_continuous))"
      ],
      "metadata": {
        "colab": {
          "base_uri": "https://localhost:8080/"
        },
        "id": "Km6gcZnqr0LT",
        "outputId": "b3cb1e4b-9f93-4f57-d1e1-98cc554582b9"
      },
      "execution_count": 8,
      "outputs": [
        {
          "output_type": "stream",
          "name": "stdout",
          "text": [
            "Độ lệch chuẩn của biến ngẫu nhiên liên tục: 0.00\n"
          ]
        }
      ]
    },
    {
      "cell_type": "markdown",
      "source": [
        "# Bài 4\n"
      ],
      "metadata": {
        "id": "oPkChdM89AyF"
      }
    },
    {
      "cell_type": "code",
      "source": [
        "\n",
        "X_values = [0, 1, 2, 3]\n",
        "P_X_values = [1/120, 27/120, 72/120, 20/120]\n",
        "\n",
        "table_data = {'X': X_values, 'P(X)': P_X_values}\n",
        "\n",
        "print(\"Bảng phân phối xác suất của X:\")\n",
        "for i in range(len(X_values)):\n",
        "    print(f\"X = {X_values[i]}: P(X) = {P_X_values[i]}\")\n",
        "\n",
        "with open(\"data.txt\", \"w\") as file:\n",
        "    file.write(\"X\\tP(X)\\n\")\n",
        "    for i in range(len(X_values)):\n",
        "        file.write(f\"{X_values[i]}\\t{P_X_values[i]}\\n\")\n"
      ],
      "metadata": {
        "id": "WY0Zk7ux89AI",
        "colab": {
          "base_uri": "https://localhost:8080/"
        },
        "outputId": "0ed1e91c-e84d-4a4e-d770-6f8f32545beb"
      },
      "execution_count": 9,
      "outputs": [
        {
          "output_type": "stream",
          "name": "stdout",
          "text": [
            "Bảng phân phối xác suất của X:\n",
            "X = 0: P(X) = 0.008333333333333333\n",
            "X = 1: P(X) = 0.225\n",
            "X = 2: P(X) = 0.6\n",
            "X = 3: P(X) = 0.16666666666666666\n"
          ]
        }
      ]
    },
    {
      "cell_type": "code",
      "source": [
        "def doc_du_lieu_tu_file(file_path):\n",
        "    x = []\n",
        "    f = []\n",
        "\n",
        "    with open(file_path, 'r') as file:\n",
        "        next(file)\n",
        "        for line in file:\n",
        "            line_data = line.strip().split('\\t')\n",
        "            x.append(int(line_data[0]))\n",
        "            f.append(float(line_data[1]))\n",
        "\n",
        "    return x, f\n",
        "\n",
        "file_path = 'data.txt'\n",
        "x, f = doc_du_lieu_tu_file(file_path)\n",
        "\n",
        "ky_vong_disc = ky_vong(x, f)\n",
        "print(f\"Kỳ vọng (E(X) or μ): {ky_vong_disc}\")\n",
        "\n",
        "phuong_sai_disc = phuong_sai(x, f)\n",
        "print(f\"Phương sai (σ² or V(x)): {phuong_sai_disc}\")\n",
        "\n",
        "do_lech_chuan_disc = do_lech_chuan(x, f)\n",
        "print(f\"Độ lệch chuẩn (σ or SD(X)): {do_lech_chuan_disc}\")\n"
      ],
      "metadata": {
        "colab": {
          "base_uri": "https://localhost:8080/"
        },
        "id": "0gCAPxkI9YjC",
        "outputId": "d8992b1e-657c-4076-9f37-1546f0e38529"
      },
      "execution_count": 12,
      "outputs": [
        {
          "output_type": "stream",
          "name": "stdout",
          "text": [
            "Kỳ vọng (E(X) or μ): 1.925\n",
            "Phương sai (σ² or V(x)): 0.4193749999999996\n",
            "Độ lệch chuẩn (σ or SD(X)): 0.6475916923494306\n"
          ]
        }
      ]
    },
    {
      "cell_type": "code",
      "source": [
        "from scipy.stats import rv_continuous\n",
        "\n",
        "class phan_phoi(rv_continuous):\n",
        "    def _pdf(self, x):\n",
        "        k = 1/900\n",
        "        if 0 <= x <= 30:\n",
        "            return k * (30 - x)\n",
        "        return 0\n",
        "\n",
        "X_continuous_rv = phan_phoi(a=0, b=30)\n",
        "\n",
        "ky_vong_continuous_lib = X_continuous_rv.mean()\n",
        "phuong_sai_continuous_lib = X_continuous_rv.var()\n",
        "do_lech_chuan_continuous_lib = X_continuous_rv.std()\n",
        "\n",
        "print(\"Kỳ vọng: {:.2f}\".format(ky_vong_continuous_lib))\n",
        "print(\"Phương sai: {:.2f}\".format(phuong_sai_continuous_lib))\n",
        "print(\"Độ lệch chuẩn: {:.2f}\".format(do_lech_chuan_continuous_lib))\n"
      ],
      "metadata": {
        "colab": {
          "base_uri": "https://localhost:8080/"
        },
        "id": "OTKLbgSB9oBe",
        "outputId": "fae91427-eb57-4d3a-b304-f2ca05655d96"
      },
      "execution_count": 18,
      "outputs": [
        {
          "output_type": "stream",
          "name": "stdout",
          "text": [
            "Kỳ vọng: 20.00\n",
            "Phương sai: 125.00\n",
            "Độ lệch chuẩn: 11.18\n"
          ]
        }
      ]
    },
    {
      "cell_type": "code",
      "source": [],
      "metadata": {
        "id": "8les_Pgxsxq1"
      },
      "execution_count": null,
      "outputs": []
    }
  ]
}