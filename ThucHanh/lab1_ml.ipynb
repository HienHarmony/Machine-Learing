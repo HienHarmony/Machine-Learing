{
  "nbformat": 4,
  "nbformat_minor": 0,
  "metadata": {
    "colab": {
      "provenance": []
    },
    "kernelspec": {
      "name": "python3",
      "display_name": "Python 3"
    },
    "language_info": {
      "name": "python"
    }
  },
  "cells": [
    {
      "cell_type": "markdown",
      "source": [
        "# Bài 1"
      ],
      "metadata": {
        "id": "YqZ3w89tD0av"
      }
    },
    {
      "cell_type": "code",
      "execution_count": null,
      "metadata": {
        "id": "vg__jjYtCsb5"
      },
      "outputs": [],
      "source": [
        "import pandas as pd\n",
        "import sympy as sp\n",
        "import numpy as np"
      ]
    },
    {
      "cell_type": "code",
      "source": [
        "A = np.zeros((3,4))\n",
        "A"
      ],
      "metadata": {
        "colab": {
          "base_uri": "https://localhost:8080/"
        },
        "id": "kl3UB0ctCxEJ",
        "outputId": "601fb4e3-f266-4a26-b9dc-520d5486fc3d"
      },
      "execution_count": null,
      "outputs": [
        {
          "output_type": "execute_result",
          "data": {
            "text/plain": [
              "array([[0., 0., 0., 0.],\n",
              "       [0., 0., 0., 0.],\n",
              "       [0., 0., 0., 0.]])"
            ]
          },
          "metadata": {},
          "execution_count": 7
        }
      ]
    },
    {
      "cell_type": "code",
      "source": [
        "B = np.ones((2,4))\n",
        "B"
      ],
      "metadata": {
        "colab": {
          "base_uri": "https://localhost:8080/"
        },
        "id": "xnczkqjOC-FC",
        "outputId": "572a3507-7409-46ac-a8fb-bf246f474f42"
      },
      "execution_count": null,
      "outputs": [
        {
          "output_type": "execute_result",
          "data": {
            "text/plain": [
              "array([[1., 1., 1., 1.],\n",
              "       [1., 1., 1., 1.]])"
            ]
          },
          "metadata": {},
          "execution_count": 9
        }
      ]
    },
    {
      "cell_type": "code",
      "source": [
        "\n",
        "C = np.full((5, 4), 5)\n",
        "C\n"
      ],
      "metadata": {
        "colab": {
          "base_uri": "https://localhost:8080/"
        },
        "id": "V1HjLVkqDW1z",
        "outputId": "bdabb9e9-96dd-42b1-c554-4baf819827c2"
      },
      "execution_count": null,
      "outputs": [
        {
          "output_type": "execute_result",
          "data": {
            "text/plain": [
              "array([[5, 5, 5, 5],\n",
              "       [5, 5, 5, 5],\n",
              "       [5, 5, 5, 5],\n",
              "       [5, 5, 5, 5],\n",
              "       [5, 5, 5, 5]])"
            ]
          },
          "metadata": {},
          "execution_count": 10
        }
      ]
    },
    {
      "cell_type": "code",
      "source": [
        "\n",
        "D = np.identity(5)\n",
        "D\n"
      ],
      "metadata": {
        "colab": {
          "base_uri": "https://localhost:8080/"
        },
        "id": "Z3ZZgoKfDl8D",
        "outputId": "2acb794e-d814-4cf5-dc61-e1014b3a5799"
      },
      "execution_count": null,
      "outputs": [
        {
          "output_type": "execute_result",
          "data": {
            "text/plain": [
              "array([[1., 0., 0., 0., 0.],\n",
              "       [0., 1., 0., 0., 0.],\n",
              "       [0., 0., 1., 0., 0.],\n",
              "       [0., 0., 0., 1., 0.],\n",
              "       [0., 0., 0., 0., 1.]])"
            ]
          },
          "metadata": {},
          "execution_count": 11
        }
      ]
    },
    {
      "cell_type": "code",
      "source": [
        "\n",
        "E = np.random.rand(4, 6)\n",
        "E"
      ],
      "metadata": {
        "colab": {
          "base_uri": "https://localhost:8080/"
        },
        "id": "T0rHX2LZDzKH",
        "outputId": "21f3956a-0c87-4e57-a22a-098cf113fa1a"
      },
      "execution_count": null,
      "outputs": [
        {
          "output_type": "execute_result",
          "data": {
            "text/plain": [
              "array([[0.48051545, 0.08202091, 0.58738358, 0.31298579, 0.41825801,\n",
              "        0.29172687],\n",
              "       [0.74057035, 0.93610698, 0.37221022, 0.29250713, 0.85208089,\n",
              "        0.38965521],\n",
              "       [0.94677994, 0.78776767, 0.16640998, 0.92686984, 0.83403186,\n",
              "        0.96011261],\n",
              "       [0.51559352, 0.02632799, 0.4175776 , 0.9160556 , 0.34745294,\n",
              "        0.57476457]])"
            ]
          },
          "metadata": {},
          "execution_count": 13
        }
      ]
    },
    {
      "cell_type": "code",
      "source": [
        "B = np.zeros((5, 5), dtype=int)\n",
        "for i in range(5):\n",
        "    for j in range(5):\n",
        "        if (i == j):\n",
        "          B[i,j] = 1\n",
        "B"
      ],
      "metadata": {
        "colab": {
          "base_uri": "https://localhost:8080/"
        },
        "id": "JL2d81HYD6UW",
        "outputId": "ad006fd2-32fd-48a0-ad61-1e35d360510c"
      },
      "execution_count": null,
      "outputs": [
        {
          "output_type": "execute_result",
          "data": {
            "text/plain": [
              "array([[1, 0, 0, 0, 0],\n",
              "       [0, 1, 0, 0, 0],\n",
              "       [0, 0, 1, 0, 0],\n",
              "       [0, 0, 0, 1, 0],\n",
              "       [0, 0, 0, 0, 1]])"
            ]
          },
          "metadata": {},
          "execution_count": 60
        }
      ]
    },
    {
      "cell_type": "code",
      "source": [
        "\n",
        "A_T =np.linalg.det(A)\n",
        "print(\"Định thức của ma trận A : \", A_T)"
      ],
      "metadata": {
        "colab": {
          "base_uri": "https://localhost:8080/"
        },
        "id": "V9_wuy05ELBe",
        "outputId": "94b733a8-270e-40da-da44-5fe72330de56"
      },
      "execution_count": null,
      "outputs": [
        {
          "output_type": "stream",
          "name": "stdout",
          "text": [
            "Định thức của ma trận A :  1.0\n"
          ]
        }
      ]
    },
    {
      "cell_type": "code",
      "source": [
        "B_T = np.linalg.det(B)\n",
        "print(\"Định thức của ma trận B : \", B_T)"
      ],
      "metadata": {
        "colab": {
          "base_uri": "https://localhost:8080/"
        },
        "id": "V5Jvnv67Eac2",
        "outputId": "186449ba-4c78-43fa-b07c-78b12b23274f"
      },
      "execution_count": null,
      "outputs": [
        {
          "output_type": "stream",
          "name": "stdout",
          "text": [
            "Định thức của ma trận B :  0.0\n"
          ]
        }
      ]
    },
    {
      "cell_type": "code",
      "source": [
        "AB = np.dot(A,B)\n",
        "print(\"A*B =\",AB)"
      ],
      "metadata": {
        "colab": {
          "base_uri": "https://localhost:8080/"
        },
        "id": "3fOjMsoAEm0B",
        "outputId": "7a3ccb73-0fd9-4dd6-fc39-66dabfecd489"
      },
      "execution_count": null,
      "outputs": [
        {
          "output_type": "stream",
          "name": "stdout",
          "text": [
            "A*B = [[ 0.  1.  2.  3.  4.]\n",
            " [ 2.  3.  4.  5.  6.]\n",
            " [ 4.  5.  6.  7.  8.]\n",
            " [ 6.  7.  8.  9. 10.]\n",
            " [ 8.  9. 10. 11. 12.]]\n"
          ]
        }
      ]
    },
    {
      "cell_type": "code",
      "source": [
        "A_B = np.add(A,B)\n",
        "print(\"A+B = \",A_B)"
      ],
      "metadata": {
        "colab": {
          "base_uri": "https://localhost:8080/"
        },
        "id": "vWnyVljxExKJ",
        "outputId": "1065e054-5938-4c1b-bd08-1507003e2423"
      },
      "execution_count": null,
      "outputs": [
        {
          "output_type": "stream",
          "name": "stdout",
          "text": [
            "A+B =  [[ 1.  1.  2.  3.  4.]\n",
            " [ 2.  4.  4.  5.  6.]\n",
            " [ 4.  5.  7.  7.  8.]\n",
            " [ 6.  7.  8. 10. 10.]\n",
            " [ 8.  9. 10. 11. 13.]]\n"
          ]
        }
      ]
    },
    {
      "cell_type": "code",
      "source": [
        "A_B1 = np.subtract(A,B)\n",
        "print(\"A-B = \", A_B1)"
      ],
      "metadata": {
        "colab": {
          "base_uri": "https://localhost:8080/"
        },
        "id": "VisKLYTpE8mZ",
        "outputId": "d331f34e-0ead-49e0-d26b-8d78d2182e30"
      },
      "execution_count": null,
      "outputs": [
        {
          "output_type": "stream",
          "name": "stdout",
          "text": [
            "A-B =  [[  1.  -1.  -2.  -3.  -4.]\n",
            " [ -2.  -2.  -4.  -5.  -6.]\n",
            " [ -4.  -5.  -5.  -7.  -8.]\n",
            " [ -6.  -7.  -8.  -8. -10.]\n",
            " [ -8.  -9. -10. -11. -11.]]\n"
          ]
        }
      ]
    },
    {
      "cell_type": "code",
      "source": [
        "result = np.multiply(4, np.divide(A, B))\n",
        "result\n"
      ],
      "metadata": {
        "colab": {
          "base_uri": "https://localhost:8080/"
        },
        "id": "5021V4lTFHZo",
        "outputId": "0a250f50-a91f-4c94-df6b-9f4eed81b4d6"
      },
      "execution_count": null,
      "outputs": [
        {
          "output_type": "stream",
          "name": "stderr",
          "text": [
            "<ipython-input-47-14e794bd834a>:1: RuntimeWarning: divide by zero encountered in divide\n",
            "  result = np.multiply(4, np.divide(A, B))\n"
          ]
        },
        {
          "output_type": "execute_result",
          "data": {
            "text/plain": [
              "array([[       inf, 0.        , 0.        , 0.        , 0.        ],\n",
              "       [0.        , 1.33333333, 0.        , 0.        , 0.        ],\n",
              "       [0.        , 0.        , 0.66666667, 0.        , 0.        ],\n",
              "       [0.        , 0.        , 0.        , 0.44444444, 0.        ],\n",
              "       [0.        , 0.        , 0.        , 0.        , 0.33333333]])"
            ]
          },
          "metadata": {},
          "execution_count": 47
        }
      ]
    },
    {
      "cell_type": "code",
      "source": [
        "# a. Ma trận A[3,4] toàn giá trị 0\n",
        "matrix_a = [[0, 0, 0, 0],\n",
        "            [0, 0, 0, 0],\n",
        "            [0, 0, 0, 0]]\n",
        "\n",
        "# b. Ma trận B[2,4] toàn giá trị 1\n",
        "matrix_b = [[1, 1, 1, 1],\n",
        "            [1, 1, 1, 1]]\n",
        "\n",
        "# c. Ma trận C[4,4] toàn giá trị 5\n",
        "matrix_c = [[5, 5, 5, 5],\n",
        "            [5, 5, 5, 5],\n",
        "            [5, 5, 5, 5],\n",
        "            [5, 5, 5, 5]]\n",
        "\n",
        "# d. Ma trận D[5,5] với các giá trị trên đường chéo chính là 1\n",
        "matrix_d = [[1, 0, 0, 0, 0],\n",
        "            [0, 1, 0, 0, 0],\n",
        "            [0, 0, 1, 0, 0],\n",
        "            [0, 0, 0, 1, 0],\n",
        "            [0, 0, 0, 0, 1]]\n",
        "\n",
        "# e. Ma trận E[4,6] với các giá trị ngẫu nhiên\n",
        "import random\n",
        "matrix_e = [[random.random() for _ in range(6)] for _ in range(4)]\n",
        "\n",
        "# In các ma trận\n",
        "print(\"Matrix A:\")\n",
        "for row in matrix_a:\n",
        "    print(row)\n",
        "\n",
        "print(\"\\nMatrix B:\")\n",
        "for row in matrix_b:\n",
        "    print(row)\n",
        "\n",
        "print(\"\\nMatrix C:\")\n",
        "for row in matrix_c:\n",
        "    print(row)\n",
        "\n",
        "print(\"\\nMatrix D:\")\n",
        "for row in matrix_d:\n",
        "    print(row)\n",
        "\n",
        "print(\"\\nMatrix E:\")\n",
        "for row in matrix_e:\n",
        "    print(row)"
      ],
      "metadata": {
        "colab": {
          "base_uri": "https://localhost:8080/"
        },
        "id": "NrZxRPfUMHHf",
        "outputId": "ca394c42-db3d-446a-9fc0-3df20720c61a"
      },
      "execution_count": null,
      "outputs": [
        {
          "output_type": "stream",
          "name": "stdout",
          "text": [
            "Matrix A:\n",
            "[0, 0, 0, 0]\n",
            "[0, 0, 0, 0]\n",
            "[0, 0, 0, 0]\n",
            "\n",
            "Matrix B:\n",
            "[1, 1, 1, 1]\n",
            "[1, 1, 1, 1]\n",
            "\n",
            "Matrix C:\n",
            "[5, 5, 5, 5]\n",
            "[5, 5, 5, 5]\n",
            "[5, 5, 5, 5]\n",
            "[5, 5, 5, 5]\n",
            "\n",
            "Matrix D:\n",
            "[1, 0, 0, 0, 0]\n",
            "[0, 1, 0, 0, 0]\n",
            "[0, 0, 1, 0, 0]\n",
            "[0, 0, 0, 1, 0]\n",
            "[0, 0, 0, 0, 1]\n",
            "\n",
            "Matrix E:\n",
            "[0.5687334666974101, 0.506538430719895, 0.6904158533915538, 0.8609660246664289, 0.21091620096358532, 0.8489212809965877]\n",
            "[0.9952498047508264, 0.7569850275276003, 0.8858999925508021, 0.5441273182146792, 0.3151688635544704, 0.07570366734993472]\n",
            "[0.27234942500325554, 0.7760782091441799, 0.126282281112442, 0.20424143200135214, 0.46154725299751875, 0.4512795712574281]\n",
            "[0.43199054999872766, 0.9069250139175102, 0.8171341152822059, 0.1548914388485617, 0.0553100579185537, 0.009511008137106591]\n"
          ]
        }
      ]
    },
    {
      "cell_type": "markdown",
      "source": [
        "# Bài 2"
      ],
      "metadata": {
        "id": "6dvwp0cIFUtY"
      }
    },
    {
      "cell_type": "code",
      "source": [
        "#Một sọt Cam có 10 trái trong đó có 4 trái hư. Lấy ngẫu nhiên ra ba trái. a) Tính xác suất lấy được 3 trái hư.\n",
        "\n",
        "from scipy.stats import binom\n",
        "p = 0.4\n",
        "n = 3\n",
        "k = 3\n",
        "print(binom.pmf(k, n, p))\n"
      ],
      "metadata": {
        "colab": {
          "base_uri": "https://localhost:8080/"
        },
        "id": "3vNqzW65FOdk",
        "outputId": "11b85be0-67da-4d75-ff45-a3f24c73f976"
      },
      "execution_count": null,
      "outputs": [
        {
          "output_type": "stream",
          "name": "stdout",
          "text": [
            "0.06400000000000002\n"
          ]
        }
      ]
    },
    {
      "cell_type": "markdown",
      "source": [
        "P(X = 3) = (4C3 *6C0)/ 10C3"
      ],
      "metadata": {
        "id": "EJWICIoxHeCt"
      }
    },
    {
      "cell_type": "code",
      "source": [
        "# b) Tính xác suất lấy được 1 trái hư.\n",
        "\n",
        "p = 0.4\n",
        "n = 3\n",
        "k = 1\n",
        "print(binom.pmf(k, n, p))\n"
      ],
      "metadata": {
        "colab": {
          "base_uri": "https://localhost:8080/"
        },
        "id": "-BHM2Sv5Fkzs",
        "outputId": "1ea6be0e-ce08-480f-a4d9-01c34f9f0da5"
      },
      "execution_count": null,
      "outputs": [
        {
          "output_type": "stream",
          "name": "stdout",
          "text": [
            "0.43199999999999994\n"
          ]
        }
      ]
    },
    {
      "cell_type": "markdown",
      "source": [
        "P(X=1) = (4C1 * 6C2)/10C3"
      ],
      "metadata": {
        "id": "PgJpAt_3IImZ"
      }
    },
    {
      "cell_type": "code",
      "source": [
        "# c) Tính xác suất lấy được ít nhất một trái hư.\n",
        "\n",
        "p = 0.4\n",
        "n = 3\n",
        "k = 0\n",
        "print(1 - binom.pmf(k, n, p))\n"
      ],
      "metadata": {
        "colab": {
          "base_uri": "https://localhost:8080/"
        },
        "id": "t_w0SEf-Fs1c",
        "outputId": "d60ed9f8-9c6c-4924-a60a-acab0763aa04"
      },
      "execution_count": null,
      "outputs": [
        {
          "output_type": "stream",
          "name": "stdout",
          "text": [
            "0.784\n"
          ]
        }
      ]
    },
    {
      "cell_type": "markdown",
      "source": [
        "P(X>=1) = 1 - P(X=0) = 1 - (4C0*6C3)/10C3"
      ],
      "metadata": {
        "id": "3Vdos8HVIY6_"
      }
    },
    {
      "cell_type": "code",
      "source": [
        "#  d) Tính xác suất lấy được nhiều nhất 2 trái hư.\n",
        "\n",
        "p = 0.4\n",
        "n = 3\n",
        "k = 2\n",
        "print(binom.cdf(k, n, p) - binom.cdf(k-1, n, p))\n"
      ],
      "metadata": {
        "colab": {
          "base_uri": "https://localhost:8080/"
        },
        "id": "YDMrXVWcFwpf",
        "outputId": "f7ae0b0d-4429-4958-8730-000af28e81a6"
      },
      "execution_count": null,
      "outputs": [
        {
          "output_type": "stream",
          "name": "stdout",
          "text": [
            "0.28800000000000003\n"
          ]
        }
      ]
    },
    {
      "cell_type": "markdown",
      "source": [
        "P(0<=X<=2) = P(X=0) + P(X=1) + P(X=2) = (4C0*6C3)/10C3 + (4C1 * 6C2)/10C3 + (4C2 * 6C1 )/10C3"
      ],
      "metadata": {
        "id": "s51BBS7YInz-"
      }
    },
    {
      "cell_type": "code",
      "source": [
        "# a) Tính xác suất lấy được 3 trái hư\n",
        "p_hu = 4 / 10  # Xác suất trái hư\n",
        "p_3_hu = (p_hu ** 3) * ((1 - p_hu) ** 0)\n",
        "print(\"a) Xác suất lấy được 3 trái hư:\", p_3_hu)\n",
        "\n",
        "# b) Tính xác suất lấy được 1 trái hư\n",
        "p_1_hu = (p_hu ** 1) * ((1 - p_hu) ** 2)\n",
        "print(\"b) Xác suất lấy được 1 trái hư:\", p_1_hu)\n",
        "\n",
        "# c) Tính xác suất lấy được ít nhất một trái hư\n",
        "p_at_least_1_hu = 1 - ((1 - p_hu) ** 3)\n",
        "print(\"c) Xác suất lấy được ít nhất một trái hư:\", p_at_least_1_hu)\n",
        "\n",
        "# d) Tính xác suất lấy được nhiều nhất 2 trái hư\n",
        "p_at_most_2_hu = 1 - (p_hu ** 3) - 3 * (p_hu ** 2) * (1 - p_hu)\n",
        "print(\"d) Xác suất lấy được nhiều nhất 2 trái hư:\", p_at_most_2_hu)\n"
      ],
      "metadata": {
        "colab": {
          "base_uri": "https://localhost:8080/"
        },
        "id": "lrgTt8ejM9ed",
        "outputId": "7a112c6b-2888-4b59-d6eb-69d8ca79668c"
      },
      "execution_count": null,
      "outputs": [
        {
          "output_type": "stream",
          "name": "stdout",
          "text": [
            "a) Xác suất lấy được 3 trái hư: 0.06400000000000002\n",
            "b) Xác suất lấy được 1 trái hư: 0.144\n",
            "c) Xác suất lấy được ít nhất một trái hư: 0.784\n",
            "d) Xác suất lấy được nhiều nhất 2 trái hư: 0.6479999999999999\n"
          ]
        }
      ]
    },
    {
      "cell_type": "markdown",
      "source": [
        "# bài 3"
      ],
      "metadata": {
        "id": "Gq4v2-D2HAjw"
      }
    },
    {
      "cell_type": "code",
      "source": [
        "\n",
        "n = 10\n",
        "p = 0.5\n",
        "k = 0\n",
        "print(binom.pmf(k, n, p))\n"
      ],
      "metadata": {
        "colab": {
          "base_uri": "https://localhost:8080/"
        },
        "id": "lA6zHrNeGqIJ",
        "outputId": "38731165-2630-4892-e347-6311916322bb"
      },
      "execution_count": null,
      "outputs": [
        {
          "output_type": "stream",
          "name": "stdout",
          "text": [
            "0.0009765624999999989\n"
          ]
        }
      ]
    },
    {
      "cell_type": "markdown",
      "source": [
        "P(X=0) = (1-P)^10 = (1-1/2)^10"
      ],
      "metadata": {
        "id": "n9forrKjJRgw"
      }
    },
    {
      "cell_type": "code",
      "source": [
        "\n",
        "n = 10\n",
        "p = 0.5\n",
        "k = 5\n",
        "print(binom.pmf(k, n, p))\n"
      ],
      "metadata": {
        "colab": {
          "base_uri": "https://localhost:8080/"
        },
        "id": "FVK95Y1NG-of",
        "outputId": "1176a9b1-ba33-4c3e-b539-7d5db53ab14c"
      },
      "execution_count": null,
      "outputs": [
        {
          "output_type": "stream",
          "name": "stdout",
          "text": [
            "0.24609375000000003\n"
          ]
        }
      ]
    },
    {
      "cell_type": "markdown",
      "source": [
        "P(X=5) = 10C5 * (1/2)^5 *(1/2)^5"
      ],
      "metadata": {
        "id": "GrPdt7ZeJ6Qs"
      }
    },
    {
      "cell_type": "code",
      "source": [
        "# c) Số trai từ 5 đến 7.\n",
        "\n",
        "n = 10\n",
        "p = 0.5\n",
        "k = np.arange(5, 8)\n",
        "print(binom.pmf(k, n, p))\n"
      ],
      "metadata": {
        "colab": {
          "base_uri": "https://localhost:8080/"
        },
        "id": "-wmjjdTlHEtC",
        "outputId": "18ff0c57-4d85-4bfb-9cab-72727be64269"
      },
      "execution_count": null,
      "outputs": [
        {
          "output_type": "stream",
          "name": "stdout",
          "text": [
            "[0.24609375 0.20507812 0.1171875 ]\n"
          ]
        }
      ]
    },
    {
      "cell_type": "markdown",
      "source": [
        "P(5≤X≤7)=P(X=5)+P(X=6)+P(X=7)\n",
        "\n",
        "\n",
        "P(5≤X≤7)=C(10,5)⋅(2,1) 5⋅(2,1)5 +C(10,6)⋅(2,1)6⋅(2,1)4 +C(10,7)⋅(2,1)7⋅(2,1) 3\n"
      ],
      "metadata": {
        "id": "8I1M-6TvKU4Z"
      }
    },
    {
      "cell_type": "code",
      "source": [
        "n_children = 10\n",
        "p_boy = 0.5\n",
        "\n",
        "# a) Không có con trai\n",
        "p_no_boy = (1 - p_boy) ** n_children\n",
        "print(\"a) Xác suất không có con trai:\", p_no_boy)\n",
        "\n",
        "# b) Có 5 con trai và 5 con gái\n",
        "p_5_boys_5_girls = (p_boy ** 5) * ((1 - p_boy) ** 5)\n",
        "print(\"b) Xác suất có 5 con trai và 5 con gái:\", p_5_boys_5_girls)\n",
        "\n",
        "# c) Số trai từ 5 đến 7\n",
        "p_5_to_7_boys = sum((p_boy ** k) * ((1 - p_boy) ** (n_children - k)) for k in range(5, 8))\n",
        "print(\"c) Xác suất có từ 5 đến 7 con trai:\", p_5_to_7_boys)\n"
      ],
      "metadata": {
        "colab": {
          "base_uri": "https://localhost:8080/"
        },
        "id": "QIAptGtcKVeX",
        "outputId": "6d36dfb5-6028-4f65-c8c4-034ecac8e3b4"
      },
      "execution_count": null,
      "outputs": [
        {
          "output_type": "stream",
          "name": "stdout",
          "text": [
            "a) Xác suất không có con trai: 0.0009765625\n",
            "b) Xác suất có 5 con trai và 5 con gái: 0.0009765625\n",
            "c) Xác suất có từ 5 đến 7 con trai: 0.0029296875\n"
          ]
        }
      ]
    },
    {
      "cell_type": "markdown",
      "source": [
        "#Bài 4"
      ],
      "metadata": {
        "id": "BAICZVQ2NQw1"
      }
    },
    {
      "cell_type": "code",
      "source": [
        "\n",
        "X_values = [0, 1, 2, 3]\n",
        "P_X_values = [1/120, 27/120, 72/120, 20/120]\n",
        "\n",
        "table_data = {'X': X_values, 'P(X)': P_X_values}\n",
        "\n",
        "print(\"Bảng phân phối xác suất của X:\")\n",
        "for i in range(len(X_values)):\n",
        "    print(f\"X = {X_values[i]}: P(X) = {P_X_values[i]}\")\n",
        "\n",
        "with open(\"data.txt\", \"w\") as file:\n",
        "    file.write(\"X\\tP(X)\\n\")\n",
        "    for i in range(len(X_values)):\n",
        "        file.write(f\"{X_values[i]}\\t{P_X_values[i]}\\n\")\n"
      ],
      "metadata": {
        "id": "RYYAkzc0NEeO"
      },
      "execution_count": null,
      "outputs": []
    },
    {
      "cell_type": "code",
      "source": [
        "def doc_du_lieu_tu_file(file_path):\n",
        "    x = []\n",
        "    f = []\n",
        "\n",
        "    with open(file_path, 'r') as file:\n",
        "        next(file)\n",
        "        for line in file:\n",
        "            line_data = line.strip().split('\\t')\n",
        "            x.append(int(line_data[0]))\n",
        "            f.append(float(line_data[1]))\n",
        "\n",
        "    return x, f\n",
        "\n",
        "file_path = 'data.txt'\n",
        "x, f = doc_du_lieu_tu_file(file_path)\n",
        "\n",
        "ky_vong_disc = ky_vong(x, f)\n",
        "print(f\"Kỳ vọng (E(X) or μ): {ky_vong_disc}\")\n",
        "\n",
        "phuong_sai_disc = phuong_sai(x, f)\n",
        "print(f\"Phương sai (σ² or V(x)): {phuong_sai_disc}\")\n",
        "\n",
        "do_lech_chuan_disc = do_lech_chuan(x, f)\n",
        "print(f\"Độ lệch chuẩn (σ or SD(X)): {do_lech_chuan_disc}\")\n"
      ],
      "metadata": {
        "id": "FOM1DQavNP4L"
      },
      "execution_count": null,
      "outputs": []
    },
    {
      "cell_type": "code",
      "source": [
        "from scipy.stats import rv_continuous\n",
        "\n",
        "class phan_phoi(rv_continuous):\n",
        "    def _pdf(self, x):\n",
        "        k = 1/900\n",
        "        if 0 <= x <= 30:\n",
        "            return k * (30 - x)\n",
        "        return 0\n",
        "\n",
        "X_continuous_rv = phan_phoi(a=0, b=30)\n",
        "\n",
        "ky_vong_continuous_lib = X_continuous_rv.mean()\n",
        "phuong_sai_continuous_lib = X_continuous_rv.var()\n",
        "do_lech_chuan_continuous_lib = X_continuous_rv.std()\n",
        "\n",
        "print(\"Kỳ vọng: {:.2f}\".format(ky_vong_continuous_lib))\n",
        "print(\"Phương sai: {:.2f}\".format(phuong_sai_continuous_lib))\n",
        "print(\"Độ lệch chuẩn: {:.2f}\".format(do_lech_chuan_continuous_lib))\n"
      ],
      "metadata": {
        "colab": {
          "base_uri": "https://localhost:8080/"
        },
        "id": "lhZQyCAyNVO2",
        "outputId": "8ce8317d-0a06-45de-8d81-3d637d398675"
      },
      "execution_count": null,
      "outputs": [
        {
          "output_type": "stream",
          "name": "stdout",
          "text": [
            "b. Sử dụng thư viện:\n",
            "   Kỳ vọng: 3.0\n",
            "   Phương sai: 0.0\n",
            "   Độ lệch chuẩn: 0.0\n"
          ]
        }
      ]
    },
    {
      "cell_type": "markdown",
      "source": [
        "# bài 5"
      ],
      "metadata": {
        "id": "tAT_P5hIOf-1"
      }
    },
    {
      "cell_type": "markdown",
      "source": [
        "#a"
      ],
      "metadata": {
        "id": "PCU1ccKonCt_"
      }
    },
    {
      "cell_type": "code",
      "source": [
        "import math\n",
        "\n",
        "# Dữ liệu\n",
        "n1 = 100\n",
        "n2 = 100\n",
        "p1 = 0.18\n",
        "p2 = 0.10\n",
        "z = 1.96\n",
        "\n",
        "SE = math.sqrt((p1*(1-p1)/n1) + (p2*(1-p2)/n2))\n",
        "\n",
        "ME = z * SE\n",
        "\n",
        "diff = p1 - p2\n",
        "CI = (diff - ME, diff + ME)\n",
        "\n",
        "CI\n",
        "\n"
      ],
      "metadata": {
        "id": "tpvyIEFKOty7",
        "colab": {
          "base_uri": "https://localhost:8080/"
        },
        "outputId": "f850f5b2-4982-4a26-b60e-6be2775b5e42"
      },
      "execution_count": null,
      "outputs": [
        {
          "output_type": "execute_result",
          "data": {
            "text/plain": [
              "(-0.015538691638518898, 0.17553869163851887)"
            ]
          },
          "metadata": {},
          "execution_count": 3
        }
      ]
    },
    {
      "cell_type": "code",
      "source": [
        "import statsmodels.api as sm\n",
        "import numpy as np\n",
        "\n",
        "n1 = 100\n",
        "n2 = 100\n",
        "p1 = 0.18\n",
        "p2 = 0.10\n",
        "\n",
        "count = np.array([p1 * n1, p2 * n2])\n",
        "nobs = np.array([n1, n2])\n",
        "\n",
        "z_score, p_value = sm.stats.proportions_ztest(count, nobs)\n",
        "\n",
        "ci = sm.stats.proportion_confint(count, nobs)\n",
        "\n",
        "z_score, p_value, ci\n"
      ],
      "metadata": {
        "colab": {
          "base_uri": "https://localhost:8080/"
        },
        "id": "VhbT15zYqvFz",
        "outputId": "3dfb3e18-fb5e-4462-949e-394991eceb05"
      },
      "execution_count": null,
      "outputs": [
        {
          "output_type": "execute_result",
          "data": {
            "text/plain": [
              "(1.6302782918784444,\n",
              " 0.10304269342469359,\n",
              " (array([0.10470064, 0.04120108]), array([0.25529936, 0.15879892])))"
            ]
          },
          "metadata": {},
          "execution_count": 8
        }
      ]
    },
    {
      "cell_type": "markdown",
      "source": [
        "#b"
      ],
      "metadata": {
        "id": "Z_ScjHStqXfE"
      }
    },
    {
      "cell_type": "code",
      "source": [
        "n_25_59 = 2000\n",
        "n_60_plus = 100\n",
        "p_25_59 = (0.93 + 0.95) / 2\n",
        "p_60_plus = 0.93\n",
        "z = 1.96\n",
        "SE_diff = math.sqrt((p_25_59*(1-p_25_59)/n_25_59) + (p_60_plus*(1-p_60_plus)/n_60_plus))\n",
        "\n",
        "ME_diff = z * SE_diff\n",
        "\n",
        "diff = p_25_59 - p_60_plus\n",
        "CI_diff = (diff - ME_diff, diff + ME_diff)\n",
        "\n",
        "CI_diff\n"
      ],
      "metadata": {
        "colab": {
          "base_uri": "https://localhost:8080/"
        },
        "id": "Xs_PWtmpp8e-",
        "outputId": "28e8de83-3026-4529-931e-6912607523d8"
      },
      "execution_count": null,
      "outputs": [
        {
          "output_type": "execute_result",
          "data": {
            "text/plain": [
              "(-0.04108047298136548, 0.06108047298136528)"
            ]
          },
          "metadata": {},
          "execution_count": 4
        }
      ]
    },
    {
      "cell_type": "code",
      "source": [
        "import statsmodels.api as sm\n",
        "import numpy as np\n",
        "\n",
        "n_25_59 = 2000\n",
        "n_60_plus = 100\n",
        "p_25_59 = (0.93 + 0.95) / 2\n",
        "p_60_plus = 0.93\n",
        "\n",
        "count_diff = np.array([p_25_59 * n_25_59, p_60_plus * n_60_plus])\n",
        "nobs_diff = np.array([n_25_59, n_60_plus])\n",
        "\n",
        "z_score_diff, p_value_diff = sm.stats.proportions_ztest(count_diff, nobs_diff)\n",
        "\n",
        "ci_diff = sm.stats.proportion_confint(count_diff, nobs_diff)\n",
        "\n",
        "z_score_diff, p_value_diff, ci_diff\n"
      ],
      "metadata": {
        "colab": {
          "base_uri": "https://localhost:8080/"
        },
        "id": "lI6Rlht3qRHd",
        "outputId": "de52a4a4-e916-49b6-f42b-cab5481c89f8"
      },
      "execution_count": null,
      "outputs": [
        {
          "output_type": "execute_result",
          "data": {
            "text/plain": [
              "(0.4094107502265574,\n",
              " 0.6822382517612233,\n",
              " (array([0.92959187, 0.8799921 ]), array([0.95040813, 0.9800079 ])))"
            ]
          },
          "metadata": {},
          "execution_count": 9
        }
      ]
    },
    {
      "cell_type": "markdown",
      "source": [
        "#Bài 6"
      ],
      "metadata": {
        "id": "cTe6sAdLriLI"
      }
    },
    {
      "cell_type": "code",
      "source": [
        "import math\n",
        "\n",
        "Z = 1.645\n",
        "E = 0.04\n",
        "p_hat = 0.5\n",
        "n = math.ceil((Z**2 * p_hat * (1 - p_hat)) / E**2)\n",
        "\n",
        "n\n"
      ],
      "metadata": {
        "colab": {
          "base_uri": "https://localhost:8080/"
        },
        "id": "ejtrOs3krNY1",
        "outputId": "28d1b8fa-d1cc-4536-fffd-00dff1d6462e"
      },
      "execution_count": null,
      "outputs": [
        {
          "output_type": "execute_result",
          "data": {
            "text/plain": [
              "423"
            ]
          },
          "metadata": {},
          "execution_count": 10
        }
      ]
    },
    {
      "cell_type": "markdown",
      "source": [
        "\n",
        "# Bài 7"
      ],
      "metadata": {
        "id": "ktHqCnDrthwC"
      }
    },
    {
      "cell_type": "markdown",
      "source": [
        "\n",
        "\n",
        "Lò̀i giai Cho $1.96 \\sigma_{\\left(\\bar{x}_1-\\bar{x}_2\\right)}$ bằng với $B=1$ phút, chúng ta có được\n",
        "$$\n",
        "1.96 \\sqrt{\\frac{\\sigma_1^2}{n_1}+\\frac{\\sigma_2^2}{n_2}}=1\n",
        "$$\n",
        "\n",
        "Bời vì chúng ta mong muốn $n_1$ bằng với $n_2$, chúng ta có thể đặt $n_1=n_2=n$ và có được phương trinh\n",
        "$$\n",
        "1.96 \\sqrt{\\frac{\\sigma_1^2}{n}+\\frac{\\sigma_2^2}{n}}=1\n",
        "$$\n",
        "\n",
        "Như đã được lưu ý ở trên, độ biến thiên (dãy = range = max - min) của từng phương pháp lắp ráp xấp xỉ như nhau, và vì thế $\\sigma_1^2=\\sigma_2^2=\\sigma^2$. Bởi vì dãy này, bằng với 8 phút, là xấp xi bằng với $4 \\sigma$, cho nên\n",
        "$$\n",
        "4 \\sigma \\approx 8\n",
        "$$\n",
        "và\n",
        "$$\n",
        "\\sigma \\approx 2\n",
        "$$\n",
        "\n",
        "Thay thế giá trị này cho $\\sigma_1$ và $\\sigma_2$ trong phương trinh trên, chúng ta có được\n",
        "$$\n",
        "1.96 \\sqrt{\\frac{(2)^2}{n}+\\frac{(2)^2}{n}}=1\n",
        "$$\n",
        "hay\n",
        "$$\n",
        "1.96 \\sqrt{\\frac{8}{n}}=1\n",
        "$$\n",
        "và\n",
        "$$\n",
        "\\sqrt{n}=1.96 \\sqrt{8}\n",
        "$$\n",
        "\n",
        "Giải ra, chúng ta có $n=31$. Như vậy mỗi nhóm nên có xấp xỉ $n=31$ công nhân."
      ],
      "metadata": {
        "id": "QzVs5kWzxbRk"
      }
    },
    {
      "cell_type": "code",
      "source": [
        "import math\n",
        "\n",
        "def calculate_sample_size(sigma, margin_of_error, confidence_level):\n",
        "    z_value = 1.96\n",
        "    sample_size = math.ceil((z_value * sigma / margin_of_error)**2)\n",
        "\n",
        "    return sample_size\n",
        "\n",
        "sigma = 2\n",
        "margin_of_error = 1\n",
        "confidence_level = 0.95\n",
        "\n",
        "sample_size = calculate_sample_size(sigma, margin_of_error, confidence_level)\n",
        "print(f\"Số lượng công nhân cần thiết cho mỗi nhóm: {sample_size}\")\n"
      ],
      "metadata": {
        "colab": {
          "base_uri": "https://localhost:8080/"
        },
        "id": "Emau5xryuT2M",
        "outputId": "c16557ec-6794-4726-bbb5-6e76dff1ec79"
      },
      "execution_count": 39,
      "outputs": [
        {
          "output_type": "stream",
          "name": "stdout",
          "text": [
            "Số lượng công nhân cần thiết cho mỗi nhóm: 16\n"
          ]
        }
      ]
    },
    {
      "cell_type": "code",
      "source": [],
      "metadata": {
        "id": "_Mcs5cGCu5tF"
      },
      "execution_count": null,
      "outputs": []
    }
  ]
}